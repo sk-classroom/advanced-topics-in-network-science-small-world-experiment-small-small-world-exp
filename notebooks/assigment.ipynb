{
 "cells": [
  {
   "cell_type": "markdown",
   "id": "d9259b15",
   "metadata": {},
   "source": [
    "# Assignment\n",
    "\n",
    "In this assignment, we will compute the average path length of a network of scientists. Please see the README in the data folder for more details on the network. \n",
    "\n",
    "Complete the following tasks and upload your notebook to your GitHub repository. \n",
    "\n",
    "1. Fill in the black functions, marked by, \"\\#TODO\", in the notebook \n",
    "2. Update this notebook.\n",
    "3. Copy & Paste the functions into `answer.py` in the same folder this notebook is. Make sure that all necessary imports are included.  \n",
    "4. `git add` the `answer.py` or upload through the web \n",
    "5. The script will be automatically graded, and your score will be shown on GitHub. See [how to check the results on GitHub](https:// ocs.github.com/en/education/manage-coursework-with-github-classroom/learn-with-github-classroom/view-autograding-results) \n",
    "\n",
    "## Load the network"
   ]
  },
  {
   "cell_type": "code",
   "execution_count": null,
   "id": "5a3bd32b",
   "metadata": {},
   "outputs": [],
   "source": [
    "from scipy import sparse\n",
    "import pandas as pd\n",
    "import igraph\n",
    "import numpy as np\n",
    "\n",
    "edge_table = pd.read_csv(\"https://raw.githubusercontent.com/sk-classroom/small-small-world-exp/main/data/edge_coauthorship.csv\")\n",
    "\n",
    "src, trg = edge_table[\"src\"], edge_table[\"trg\"]\n",
    "g = igraph.Graph.TupleList(list(zip(src, trg)), directed=False)\n"
   ]
  },
  {
   "cell_type": "markdown",
   "id": "8f5caec5",
   "metadata": {},
   "source": [
    "The size of the networks:"
   ]
  },
  {
   "cell_type": "code",
   "execution_count": null,
   "id": "75a4ded3",
   "metadata": {},
   "outputs": [],
   "source": [
    "print(\"Number of nodes:\", g.vcount())\n",
    "print(\"Number of edges:\", g.ecount())"
   ]
  },
  {
   "cell_type": "markdown",
   "id": "e9559857",
   "metadata": {},
   "source": [
    "# Connected components\n",
    "\n",
    "How many connected components?"
   ]
  },
  {
   "cell_type": "code",
   "execution_count": null,
   "id": "fd6daca4",
   "metadata": {},
   "outputs": [],
   "source": [
    "def count_connected_components(g):\n",
    "    return len(g.connected_components())\n",
    "\n",
    "print(\"Number of connected components:\", count_connected_components(g))"
   ]
  },
  {
   "cell_type": "markdown",
   "id": "8702ef52",
   "metadata": {},
   "source": [
    "# Largest connected component"
   ]
  },
  {
   "cell_type": "code",
   "execution_count": null,
   "id": "eeabd9d3",
   "metadata": {},
   "outputs": [],
   "source": [
    "#TODO\n",
    "def get_largest_connected_component(g):\n",
    "    \"\"\"\n",
    "    Get the largest connected component of the graph.\n",
    "\n",
    "    Parameters\n",
    "    ----------\n",
    "    g : igraph.Graph\n",
    "        The graph to get the largest connected component from.\n",
    "\n",
    "    Returns\n",
    "    -------\n",
    "    igraph.Graph\n",
    "        The largest connected component.\n",
    "    \"\"\"\n",
    "    pass\n",
    "\n",
    "gs = get_largest_connected_component(g)\n",
    "\n",
    "assert gs.vcount() == 63333, f\"Expected 63333 nodes in the largest connected component, got {gs.vcount()}\""
   ]
  },
  {
   "cell_type": "markdown",
   "id": "645dde26",
   "metadata": {},
   "source": [
    "# Compute the average path length\n",
    "\n",
    "Let us compute the average path legnth between two random nodes. As our network has more than 10,000 nodes, it is not practical to compute the shortest path length between all pairs of nodes. Instead, we perform an estimation by randomly sampling two nodes sufficiently many times and compute the average path length.\n"
   ]
  },
  {
   "cell_type": "code",
   "execution_count": null,
   "id": "7aa59b31",
   "metadata": {},
   "outputs": [],
   "source": [
    "# TODO: Implement the function. The function is partially implemented below.\n",
    "def get_average_path_length(g, n_samples=100):\n",
    "    \"\"\"\n",
    "    Get the average path length between two random nodes.\n",
    "    \"\"\"\n",
    "\n",
    "    # Pick two random distinct node pairs\n",
    "    n_nodes = g.vcount()\n",
    "    while True:\n",
    "        src = np.random.choice(n_nodes, n_samples)\n",
    "        trg = np.random.choice(n_nodes, n_samples)\n",
    "\n",
    "        # If all the two nodes are distinct\n",
    "        # (We do not want to have two nodes to be the same node, which results in the path length of 0, leading to the underestimation of the average path length)\n",
    "        if np.all(src != trg):\n",
    "            break\n",
    "\n",
    "    # Compute the average shortest path length between the sampled nodes\n",
    "    path_lengths = ...\n",
    "\n",
    "    # Return the average path length\n",
    "    return np.mean(path_lengths)\n",
    "\n",
    "ave_path_length = get_average_path_length(gs)\n",
    "\n",
    "print(\"Average path length:\", ave_path_length)"
   ]
  }
 ],
 "metadata": {
  "kernelspec": {
   "display_name": "Python 3",
   "language": "python",
   "name": "python3"
  },
  "language_info": {
   "codemirror_mode": {
    "name": "ipython",
    "version": 3
   },
   "file_extension": ".py",
   "mimetype": "text/x-python",
   "name": "python",
   "nbconvert_exporter": "python",
   "pygments_lexer": "ipython3",
   "version": "3.11.0"
  }
 },
 "nbformat": 4,
 "nbformat_minor": 5
}
